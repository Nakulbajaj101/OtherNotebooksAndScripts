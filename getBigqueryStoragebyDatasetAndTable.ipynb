{
 "cells": [
  {
   "cell_type": "code",
   "execution_count": null,
   "metadata": {
    "scrolled": true
   },
   "outputs": [],
   "source": [
    "from google.cloud import bigquery\n",
    "import pandas as pd\n",
    "import datetime\n",
    "from datetime import timedelta\n",
    "import time\n",
    "from utility_functions import create_dataset"
   ]
  },
  {
   "cell_type": "code",
   "execution_count": null,
   "metadata": {},
   "outputs": [],
   "source": [
    "project_id=\"\" #Put your project id"
   ]
  },
  {
   "cell_type": "code",
   "execution_count": null,
   "metadata": {},
   "outputs": [],
   "source": [
    "client = bigquery.Client(project=f'{project_id}')"
   ]
  },
  {
   "cell_type": "code",
   "execution_count": null,
   "metadata": {},
   "outputs": [],
   "source": [
    "create_dataset(project=f'{project_id}', dataset_id='BIGQUERY_STATS', confirm_dataset='n', location='australia-southeast1')"
   ]
  },
  {
   "cell_type": "code",
   "execution_count": null,
   "metadata": {},
   "outputs": [],
   "source": [
    "def chunks(l, n):\n",
    "    # For item i in a range that is a length of l,\n",
    "    for i in range(0, len(l), n):\n",
    "        # Create an index range for l of n items:\n",
    "        yield l[i:i+n]"
   ]
  },
  {
   "cell_type": "code",
   "execution_count": null,
   "metadata": {},
   "outputs": [],
   "source": [
    "!bq ls -n 1000 -d --project_id=project_id --format=prettyjson | jq '.[] | select(.location == \"australia-southeast1\") .datasetReference .datasetId' > australianDatasets.txt "
   ]
  },
  {
   "cell_type": "code",
   "execution_count": null,
   "metadata": {},
   "outputs": [],
   "source": [
    "!bq ls -d --project_id=project_id --format=prettyjson | jq '.[] | select(.location == \"EU\") .datasetReference .datasetId' > EuDatasets.txt "
   ]
  },
  {
   "cell_type": "code",
   "execution_count": null,
   "metadata": {},
   "outputs": [],
   "source": [
    "eu_datasets = pd.read_csv('EuDatasets.txt', header=None,names=['Datasets'])"
   ]
  },
  {
   "cell_type": "code",
   "execution_count": null,
   "metadata": {},
   "outputs": [],
   "source": [
    "au_datasets = pd.read_csv('australianDatasets.txt', header=None, names=['Datasets'])"
   ]
  },
  {
   "cell_type": "code",
   "execution_count": null,
   "metadata": {},
   "outputs": [],
   "source": [
    "au_datasets"
   ]
  },
  {
   "cell_type": "code",
   "execution_count": null,
   "metadata": {},
   "outputs": [],
   "source": [
    "eu_datasets = [dataset for dataset in eu_datasets['Datasets']]\n",
    "au_datasets = [dataset for dataset in au_datasets['Datasets']]"
   ]
  },
  {
   "cell_type": "code",
   "execution_count": null,
   "metadata": {},
   "outputs": [],
   "source": [
    "eu_datasets = chunks(eu_datasets, 5)\n",
    "au_datasets = chunks(au_datasets, 50)"
   ]
  },
  {
   "cell_type": "code",
   "execution_count": null,
   "metadata": {},
   "outputs": [],
   "source": [
    "df_au = []\n",
    "for ds in au_datasets:\n",
    "    query = \"\"\n",
    "    for i in ds:            \n",
    "        q = \"SELECT * FROM `{}.__TABLES__` UNION ALL \".format(f'{project_id}.'+i)\n",
    "        query = query + q\n",
    "    query = query[:-10]\n",
    "    try:\n",
    "        dataset = pd.read_gbq(query, project_id=project_id, dialect = 'standard')\n",
    "        df_au.append(dataset)\n",
    "    except Exception as e:\n",
    "        print(e)\n",
    "df_au = pd.concat(df_au)"
   ]
  },
  {
   "cell_type": "code",
   "execution_count": null,
   "metadata": {},
   "outputs": [],
   "source": [
    "df_eu = []\n",
    "for ds in eu_datasets:\n",
    "    query = \"\"\n",
    "    for i in ds:            \n",
    "        q = \"SELECT * FROM `{}.__TABLES__` UNION ALL \".format(f'{project_id}.'+i)\n",
    "        query = query + q\n",
    "    query = query[:-10]\n",
    "    try:\n",
    "        dataset = pd.read_gbq(query, project_id=project_id, dialect = 'standard')\n",
    "        df_eu.append(dataset)\n",
    "    except Exception as e:\n",
    "        print(e)\n",
    "df_eu = pd.concat(df_eu)"
   ]
  },
  {
   "cell_type": "code",
   "execution_count": null,
   "metadata": {},
   "outputs": [],
   "source": [
    "df = df_au"
   ]
  },
  {
   "cell_type": "code",
   "execution_count": null,
   "metadata": {},
   "outputs": [],
   "source": [
    "df.creation_time = [datetime.datetime.fromtimestamp(s/1000.0).strftime('%Y-%m-%d %H:%M:%S.%f') for s in df.creation_time]\n",
    "df.last_modified_time = [datetime.datetime.fromtimestamp(s/1000.0).strftime('%Y-%m-%d %H:%M:%S.%f') for s in df.last_modified_time]"
   ]
  },
  {
   "cell_type": "code",
   "execution_count": null,
   "metadata": {},
   "outputs": [],
   "source": [
    "df.creation_time = [datetime.datetime.strptime(i, '%Y-%m-%d %H:%M:%S.%f') for i in df.creation_time]\n",
    "df.last_modified_time = [datetime.datetime.strptime(i, '%Y-%m-%d %H:%M:%S.%f') for i in df.last_modified_time]\n",
    "df['gigabytes'] = df.size_bytes/1000000000\n",
    "df['megabytes'] = df.size_bytes/1000000"
   ]
  },
  {
   "cell_type": "code",
   "execution_count": null,
   "metadata": {},
   "outputs": [],
   "source": [
    "df.to_gbq('BIGQUERY_STATS.datasets_tables_statistics', project_id,if_exists = 'replace')"
   ]
  },
  {
   "cell_type": "code",
   "execution_count": null,
   "metadata": {},
   "outputs": [],
   "source": [
    "df = df.groupby(['dataset_id']).agg({'last_modified_time':max,'gigabytes':sum,'megabytes':sum}).reset_index()\n",
    "df.to_gbq('BIGQUERY_STATS.datasets_aggregated_statistics', project_id, if_exists = 'replace')"
   ]
  }
 ],
 "metadata": {
  "kernelspec": {
   "display_name": "Python 3",
   "language": "python",
   "name": "python3"
  },
  "language_info": {
   "codemirror_mode": {
    "name": "ipython",
    "version": 3
   },
   "file_extension": ".py",
   "mimetype": "text/x-python",
   "name": "python",
   "nbconvert_exporter": "python",
   "pygments_lexer": "ipython3",
   "version": "3.7.6"
  }
 },
 "nbformat": 4,
 "nbformat_minor": 2
}
